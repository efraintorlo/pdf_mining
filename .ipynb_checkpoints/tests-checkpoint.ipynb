{
 "cells": [
  {
   "cell_type": "code",
   "execution_count": 1,
   "metadata": {
    "collapsed": true
   },
   "outputs": [],
   "source": [
    "from pdfminer.pdfparser import PDFParser"
   ]
  },
  {
   "cell_type": "code",
   "execution_count": 2,
   "metadata": {
    "collapsed": true
   },
   "outputs": [],
   "source": [
    "from pdfminer.pdfdocument import PDFDocument"
   ]
  },
  {
   "cell_type": "code",
   "execution_count": 4,
   "metadata": {
    "collapsed": false
   },
   "outputs": [
    {
     "name": "stdout",
     "output_type": "stream",
     "text": [
      "[{u'Producer': 'pdfTeX-1.40.17', u'Creator': 'LaTeX with hyperref package', u'PTEX.Fullbanner': 'This is pdfTeX, Version 3.14159265-2.6-1.40.17 (TeX Live 2016) kpathsea version 6.2.2', u'Author': '', u'Title': '', u'ModDate': 'D:20170217011713Z', u'Keywords': '', u'Trapped': /u'False', u'CreationDate': 'D:20170217011713Z', u'Subject': ''}]\n"
     ]
    }
   ],
   "source": [
    "fp = open('1702.05090.pdf', 'rb')\n",
    "\n",
    "parser = PDFParser(fp)\n",
    "doc = PDFDocument(parser)\n",
    "\n",
    "print doc.info  # The \"Info\" metadata"
   ]
  },
  {
   "cell_type": "code",
   "execution_count": 6,
   "metadata": {
    "collapsed": false
   },
   "outputs": [
    {
     "data": {
      "text/plain": [
       "True"
      ]
     },
     "execution_count": 6,
     "metadata": {},
     "output_type": "execute_result"
    }
   ],
   "source": [
    "doc.caching"
   ]
  },
  {
   "cell_type": "code",
   "execution_count": 1,
   "metadata": {
    "collapsed": false
   },
   "outputs": [
    {
     "ename": "ImportError",
     "evalue": "cannot import name settings",
     "output_type": "error",
     "traceback": [
      "\u001b[0;31m---------------------------------------------------------------------------\u001b[0m",
      "\u001b[0;31mImportError\u001b[0m                               Traceback (most recent call last)",
      "\u001b[0;32m<ipython-input-1-73c4c63c0ef8>\u001b[0m in \u001b[0;36m<module>\u001b[0;34m()\u001b[0m\n\u001b[0;32m----> 1\u001b[0;31m \u001b[0;32mimport\u001b[0m \u001b[0mpdfx\u001b[0m\u001b[0;34m\u001b[0m\u001b[0m\n\u001b[0m\u001b[1;32m      2\u001b[0m \u001b[0mpdf\u001b[0m \u001b[0;34m=\u001b[0m \u001b[0mpdfx\u001b[0m\u001b[0;34m.\u001b[0m\u001b[0mPDFx\u001b[0m\u001b[0;34m(\u001b[0m\u001b[0;34m\"1702.05090.pdf\"\u001b[0m\u001b[0;34m)\u001b[0m\u001b[0;34m\u001b[0m\u001b[0m\n\u001b[1;32m      3\u001b[0m \u001b[0mmetadata\u001b[0m \u001b[0;34m=\u001b[0m \u001b[0mpdf\u001b[0m\u001b[0;34m.\u001b[0m\u001b[0mget_metadata\u001b[0m\u001b[0;34m(\u001b[0m\u001b[0;34m)\u001b[0m\u001b[0;34m\u001b[0m\u001b[0m\n\u001b[1;32m      4\u001b[0m \u001b[0mreferences_list\u001b[0m \u001b[0;34m=\u001b[0m \u001b[0mpdf\u001b[0m\u001b[0;34m.\u001b[0m\u001b[0mget_references\u001b[0m\u001b[0;34m(\u001b[0m\u001b[0;34m)\u001b[0m\u001b[0;34m\u001b[0m\u001b[0m\n\u001b[1;32m      5\u001b[0m \u001b[0mreferences_dict\u001b[0m \u001b[0;34m=\u001b[0m \u001b[0mpdf\u001b[0m\u001b[0;34m.\u001b[0m\u001b[0mget_references_as_dict\u001b[0m\u001b[0;34m(\u001b[0m\u001b[0;34m)\u001b[0m\u001b[0;34m\u001b[0m\u001b[0m\n",
      "\u001b[0;32m/usr/local/lib/python2.7/dist-packages/pdfx/__init__.py\u001b[0m in \u001b[0;36m<module>\u001b[0;34m()\u001b[0m\n\u001b[1;32m     59\u001b[0m \u001b[0;34m\u001b[0m\u001b[0m\n\u001b[1;32m     60\u001b[0m \u001b[0;32mfrom\u001b[0m \u001b[0;34m.\u001b[0m\u001b[0mextractor\u001b[0m \u001b[0;32mimport\u001b[0m \u001b[0mextract_urls\u001b[0m\u001b[0;34m\u001b[0m\u001b[0m\n\u001b[0;32m---> 61\u001b[0;31m \u001b[0;32mfrom\u001b[0m \u001b[0;34m.\u001b[0m\u001b[0mbackends\u001b[0m \u001b[0;32mimport\u001b[0m \u001b[0mPDFMinerBackend\u001b[0m\u001b[0;34m,\u001b[0m \u001b[0mTextBackend\u001b[0m\u001b[0;34m\u001b[0m\u001b[0m\n\u001b[0m\u001b[1;32m     62\u001b[0m \u001b[0;32mfrom\u001b[0m \u001b[0;34m.\u001b[0m\u001b[0mdownloader\u001b[0m \u001b[0;32mimport\u001b[0m \u001b[0mdownload_urls\u001b[0m\u001b[0;34m\u001b[0m\u001b[0m\n\u001b[1;32m     63\u001b[0m \u001b[0;32mfrom\u001b[0m \u001b[0;34m.\u001b[0m\u001b[0mexceptions\u001b[0m \u001b[0;32mimport\u001b[0m \u001b[0mFileNotFoundError\u001b[0m\u001b[0;34m,\u001b[0m \u001b[0mDownloadError\u001b[0m\u001b[0;34m,\u001b[0m \u001b[0mPDFInvalidError\u001b[0m\u001b[0;34m\u001b[0m\u001b[0m\n",
      "\u001b[0;32m/usr/local/lib/python2.7/dist-packages/pdfx/backends.py\u001b[0m in \u001b[0;36m<module>\u001b[0;34m()\u001b[0m\n\u001b[1;32m     20\u001b[0m \u001b[0;31m# Setting `psparser.STRICT` is the first thing to do because it is\u001b[0m\u001b[0;34m\u001b[0m\u001b[0;34m\u001b[0m\u001b[0m\n\u001b[1;32m     21\u001b[0m \u001b[0;31m# referenced in the other pdfparser modules\u001b[0m\u001b[0;34m\u001b[0m\u001b[0;34m\u001b[0m\u001b[0m\n\u001b[0;32m---> 22\u001b[0;31m \u001b[0;32mfrom\u001b[0m \u001b[0mpdfminer\u001b[0m \u001b[0;32mimport\u001b[0m \u001b[0msettings\u001b[0m \u001b[0;32mas\u001b[0m \u001b[0mpdfminer_settings\u001b[0m\u001b[0;34m\u001b[0m\u001b[0m\n\u001b[0m\u001b[1;32m     23\u001b[0m \u001b[0mpdfminer_settings\u001b[0m\u001b[0;34m.\u001b[0m\u001b[0mSTRICT\u001b[0m \u001b[0;34m=\u001b[0m \u001b[0mFalse\u001b[0m\u001b[0;34m\u001b[0m\u001b[0m\n\u001b[1;32m     24\u001b[0m \u001b[0;32mfrom\u001b[0m \u001b[0mpdfminer\u001b[0m \u001b[0;32mimport\u001b[0m \u001b[0mpsparser\u001b[0m\u001b[0;34m\u001b[0m\u001b[0m\n",
      "\u001b[0;31mImportError\u001b[0m: cannot import name settings"
     ]
    }
   ],
   "source": [
    "import pdfx\n",
    "pdf = pdfx.PDFx(\"1702.05090.pdf\")\n",
    "metadata = pdf.get_metadata()\n",
    "references_list = pdf.get_references()\n",
    "references_dict = pdf.get_references_as_dict()"
   ]
  },
  {
   "cell_type": "code",
   "execution_count": 2,
   "metadata": {
    "collapsed": false
   },
   "outputs": [
    {
     "ename": "ImportError",
     "evalue": "cannot import name extractor",
     "output_type": "error",
     "traceback": [
      "\u001b[0;31m---------------------------------------------------------------------------\u001b[0m",
      "\u001b[0;31mImportError\u001b[0m                               Traceback (most recent call last)",
      "\u001b[0;32m<ipython-input-2-5dfcaafdaa4e>\u001b[0m in \u001b[0;36m<module>\u001b[0;34m()\u001b[0m\n\u001b[0;32m----> 1\u001b[0;31m \u001b[0;32mimport\u001b[0m \u001b[0mpdfx\u001b[0m\u001b[0;34m\u001b[0m\u001b[0m\n\u001b[0m",
      "\u001b[0;32m/usr/local/lib/python2.7/dist-packages/pdfx/__init__.py\u001b[0m in \u001b[0;36m<module>\u001b[0;34m()\u001b[0m\n\u001b[1;32m     59\u001b[0m \u001b[0;34m\u001b[0m\u001b[0m\n\u001b[1;32m     60\u001b[0m \u001b[0;32mfrom\u001b[0m \u001b[0;34m.\u001b[0m\u001b[0mextractor\u001b[0m \u001b[0;32mimport\u001b[0m \u001b[0mextract_urls\u001b[0m\u001b[0;34m\u001b[0m\u001b[0m\n\u001b[0;32m---> 61\u001b[0;31m \u001b[0;32mfrom\u001b[0m \u001b[0;34m.\u001b[0m\u001b[0mbackends\u001b[0m \u001b[0;32mimport\u001b[0m \u001b[0mPDFMinerBackend\u001b[0m\u001b[0;34m,\u001b[0m \u001b[0mTextBackend\u001b[0m\u001b[0;34m\u001b[0m\u001b[0m\n\u001b[0m\u001b[1;32m     62\u001b[0m \u001b[0;32mfrom\u001b[0m \u001b[0;34m.\u001b[0m\u001b[0mdownloader\u001b[0m \u001b[0;32mimport\u001b[0m \u001b[0mdownload_urls\u001b[0m\u001b[0;34m\u001b[0m\u001b[0m\n\u001b[1;32m     63\u001b[0m \u001b[0;32mfrom\u001b[0m \u001b[0;34m.\u001b[0m\u001b[0mexceptions\u001b[0m \u001b[0;32mimport\u001b[0m \u001b[0mFileNotFoundError\u001b[0m\u001b[0;34m,\u001b[0m \u001b[0mDownloadError\u001b[0m\u001b[0;34m,\u001b[0m \u001b[0mPDFInvalidError\u001b[0m\u001b[0;34m\u001b[0m\u001b[0m\n",
      "\u001b[0;32m/usr/local/lib/python2.7/dist-packages/pdfx/backends.py\u001b[0m in \u001b[0;36m<module>\u001b[0;34m()\u001b[0m\n\u001b[1;32m     15\u001b[0m \u001b[0;34m\u001b[0m\u001b[0m\n\u001b[1;32m     16\u001b[0m \u001b[0;31m# Find URLs in text via regex\u001b[0m\u001b[0;34m\u001b[0m\u001b[0;34m\u001b[0m\u001b[0m\n\u001b[0;32m---> 17\u001b[0;31m \u001b[0;32mfrom\u001b[0m \u001b[0;34m.\u001b[0m \u001b[0;32mimport\u001b[0m \u001b[0mextractor\u001b[0m\u001b[0;34m\u001b[0m\u001b[0m\n\u001b[0m\u001b[1;32m     18\u001b[0m \u001b[0;32mfrom\u001b[0m \u001b[0;34m.\u001b[0m\u001b[0mlibs\u001b[0m\u001b[0;34m.\u001b[0m\u001b[0mxmp\u001b[0m \u001b[0;32mimport\u001b[0m \u001b[0mxmp_to_dict\u001b[0m\u001b[0;34m\u001b[0m\u001b[0m\n\u001b[1;32m     19\u001b[0m \u001b[0;34m\u001b[0m\u001b[0m\n",
      "\u001b[0;31mImportError\u001b[0m: cannot import name extractor"
     ]
    }
   ],
   "source": [
    "import pdfx"
   ]
  },
  {
   "cell_type": "code",
   "execution_count": 8,
   "metadata": {
    "collapsed": false
   },
   "outputs": [],
   "source": [
    "import re\n",
    "regexDOI = re.compile('[doi|DOI][\\s\\.\\:]{0,2}(10\\.\\d{4}[\\d\\:\\.\\-\\/a-z]+)[A-Z\\s]')"
   ]
  },
  {
   "cell_type": "code",
   "execution_count": 3,
   "metadata": {
    "collapsed": true
   },
   "outputs": [],
   "source": [
    "from cStringIO import StringIO\n",
    "from pdfminer.pdfinterp import PDFResourceManager, PDFPageInterpreter\n",
    "from pdfminer.converter import TextConverter\n",
    "from pdfminer.layout import LAParams\n",
    "from pdfminer.pdfpage import PDFPage\n",
    "\n",
    "def convert(fname, pages=None):\n",
    "    if not pages:\n",
    "        pagenums = set()\n",
    "    else:\n",
    "        pagenums = set(pages)\n",
    "\n",
    "    output = StringIO()\n",
    "    manager = PDFResourceManager()\n",
    "    converter = TextConverter(manager, output, laparams=LAParams())\n",
    "    interpreter = PDFPageInterpreter(manager, converter)\n",
    "\n",
    "    infile = file(fname, 'rb')\n",
    "    for page in PDFPage.get_pages(infile, pagenums):\n",
    "        interpreter.process_page(page)\n",
    "    infile.close()\n",
    "    converter.close()\n",
    "    text = output.getvalue()\n",
    "    output.close\n",
    "    return text"
   ]
  },
  {
   "cell_type": "code",
   "execution_count": 9,
   "metadata": {
    "collapsed": false
   },
   "outputs": [],
   "source": [
    "text = convert('carr2016.pdf', pages=[0,1])"
   ]
  },
  {
   "cell_type": "code",
   "execution_count": 10,
   "metadata": {
    "collapsed": false
   },
   "outputs": [
    {
     "name": "stdout",
     "output_type": "stream",
     "text": [
      "I: 10.1103/P\n"
     ]
    }
   ],
   "source": [
    "m = regexDOI.search(text)\n",
    "print(m.group(0))"
   ]
  },
  {
   "cell_type": "code",
   "execution_count": 11,
   "metadata": {
    "collapsed": true
   },
   "outputs": [
    {
     "data": {
      "text/plain": [
       "'PHYSICAL REVIEW D 94, 083504 (2016)\\n\\nPrimordial black holes as dark matter\\n\\nBernard Carr,1,* Florian K\\xc3\\xbchnel,2,\\xe2\\x80\\xa0\\n\\nand Marit Sandstad3,\\xe2\\x80\\xa1\\n\\n1Department of Physics and Astronomy, Queen Mary University of London,\\n\\nMile End Road, London E1 4NS, United Kingdom\\n\\n2The Oskar Klein Centre for Cosmoparticle Physics, Department of Physics, Stockholm University,\\n\\nAlbaNova, SE\\xe2\\x80\\x9310691 Stockholm, Sweden\\n\\n3Nordita, KTH Royal Institute of Technology and Stockholm University,\\n\\nRoslagstullsbacken 23, SE\\xe2\\x80\\x9310691 Stockholm, Sweden\\n(Received 8 August 2016; published 4 October 2016)\\n\\nThe possibility that the dark matter comprises primordial black holes (PBHs) is considered, with\\nparticular emphasis on the currently allowed mass windows at 1016\\xe2\\x80\\x931017 g, 1020\\xe2\\x80\\x931024 g and 1\\xe2\\x80\\x93103M\\xe2\\x8a\\x99.\\nThe Planck mass relics of smaller evaporating PBHs are also considered. All relevant constraints (lensing,\\ndynamical, large-scale structure and accretion) are reviewed and various effects necessary for a precise\\ncalculation of the PBH abundance (non-Gaussianity, nonsphericity, critical collapse and merging) are\\naccounted for. It is difficult to put all the dark matter in PBHs if their mass function is monochromatic but\\nthis is still possible if the mass function is extended, as expected in many scenarios. A novel procedure for\\nconfronting observational constraints with an extended PBH mass spectrum is therefore introduced. This\\napplies for arbitrary constraints and a wide range of PBH formation models and allows us to identify which\\nmodel-independent conclusions can be drawn from constraints over all mass ranges. We focus particularly\\non PBHs generated by inflation, pointing out which effects in the formation process influence the mapping\\nfrom the inflationary power spectrum to the PBH mass function. We then apply our scheme to two specific\\ninflationary models in which PBHs provide the dark matter. The possibility that the dark matter is in\\nintermediate-mass PBHs of 1\\xe2\\x80\\x93103M\\xe2\\x8a\\x99 is of special interest in view of the recent detection of black-hole\\nmergers by LIGO. The possibility of Planck relics is also intriguing but virtually untestable.\\n\\nDOI: 10.1103/PhysRevD.94.083504\\n\\nI. INTRODUCTION\\n\\nPrimordial black holes (PBHs) have been a source of\\nintense interest for nearly 50 years [1], despite the fact that\\nthere is still no evidence for them. One reason for this interest\\nis that only PBHs could be small enough for Hawking\\nradiation to be important [2]. This has not yet been confirmed\\nexperimentally and there remain major conceptual puzzles\\nassociated with the process, with Hawking himself still\\ngrappling with these [3]. Nevertheless, this discovery is\\ngenerally recognized as one of the key developments in\\n20th century physics because it beautifully unifies general\\nrelativity, quantum mechanics and thermodynamics. The\\nfact that Hawking was only led to this discovery through\\ncontemplating the properties of PBHs illustrates that it can be\\nuseful to study something even if it may not exist.\\n\\nPBHs smaller than about 1015 g would have evaporated\\nby now with many interesting cosmological consequences.\\nStudies of such consequences have placed useful con-\\nstraints on models of\\nthe early Universe and, more\\npositively, evaporating PBHs have been invoked to explain\\ncertain features: for example, the extragalactic [4] and\\n\\n*b.j.carr@qmul.ac.uk\\n\\xe2\\x80\\xa0\\nflorian.kuhnel@fysik.su.se\\n\\xe2\\x80\\xa1\\nmarit.sandstad@astro.uio.no\\n\\nGalactic [5] \\xce\\xb3-ray backgrounds, antimatter in cosmic rays\\n[6], the annihilation line radiation from the Galactic center\\n[7], the reionization of the pregalactic medium [8] and\\nsome short-period gamma-ray bursts [9]. For more com-\\nprehensive references, see recent articles by Khlopov [10]\\nand Carr et al. [11] and the book by Calmet, Carr, and\\nWinstanley [12]. However, there are usually other possible\\nexplanations for these features, so there is no definitive\\nevidence for evaporating PBHs.\\n\\nAttention has therefore shifted to the PBHs larger than\\n1015 g, which are unaffected by Hawking radiation. Such\\nPBHs might have various astrophysical consequences, such\\nas providing seeds for the supermassive black holes in\\ngalactic nuclei [13], the generation of large-scale structure\\nthrough Poisson fluctuations [14] and important effects on\\nthe thermal and ionization history of the Universe [15].\\nFor a recent review, in which a particular PBH-producing\\nmodel is shown to solve these and several other observa-\\ntional problems, see Ref. [16]. But perhaps the most\\nexciting possibility\\xe2\\x80\\x94and the main focus of this paper\\xe2\\x80\\x94\\nis that they could provide the dark matter which comprises\\n25% of the critical density, an idea that goes back to\\nthe earliest days of PBH research [17]. Since PBHs formed\\nin the radiation-dominated era,\\nthey are not subject\\nto the well-known big bang nucleosynthesis (BBNS)\\nconstraint that baryons can have at most 5% of the critical\\n\\n2470-0010=2016=94(8)=083504(28)\\n\\n083504-1\\n\\n\\xc2\\xa9 2016 American Physical Society\\n\\n\\x0cCARR, K\\xc3\\x9cHNEL, and SANDSTAD\\n\\ndensity [18]. They should therefore be classed as non-\\nbaryonic and from a dynamical perspective they behave\\nlike any other form of cold dark matter (CDM).\\n\\nThere is still no compelling evidence that PBHs provide\\nthe dark matter, but nor is there for any of the more\\ntraditional CDM candidates. One favored candidate is a\\nweakly interacting massive particle (WIMP), such as the\\nlightest supersymmetric particle [19] or the axion [20], but\\n30 years of accelerator experiments and direct dark-matter\\nsearches have not confirmed the existence of these particles\\n[21]. One should not be too deterred by this\\xe2\\x80\\x94after all, the\\nexistence of gravitational waves was predicted 100 years\\nago, the first searches began nearly 50 years ago [22] and\\nthey were only finally detected by LIGO a few months ago\\n[23]. Nevertheless, even some theorists have become\\npessimistic about WIMPs [24], so this does encourage\\nthe search for alternative candidates.\\n\\nThere was a flurry of excitement around the PBH dark-\\nmatter hypothesis in the 1990s, when the Massive\\nAstrophysical Compact Halo Object (MACHO) micro-\\nlensing results [25] suggested that the dark matter could\\nbe in compact objects of mass 0.5M\\xe2\\x8a\\x99 since alternative\\nMACHO candidates could be excluded and PBHs of this\\nmass might naturally form at\\nthe quark-hadron phase\\ntransition at 10\\xe2\\x88\\x925 s [26]. Subsequently, however, it was\\nshown that such objects could comprise only 20% of the\\ndark matter and indeed the entire mass range 10\\xe2\\x88\\x927M\\xe2\\x8a\\x99 to\\n10M\\xe2\\x8a\\x99 was excluded from providing the dark matter [27].\\nAt one point there were claims to have discovered a critical\\ndensity of 10\\xe2\\x88\\x923M\\xe2\\x8a\\x99 PBHs through the microlensing of\\nquasars [28] but this claim was met with skepticism [29]\\nand would seem to be incompatible with other lensing\\nconstraints. Also femtolensing of \\xce\\xb3-ray bursts excluded\\n1017\\xe2\\x80\\x931020 g PBHs [30], microlensing of quasars con-\\nstrained 10\\xe2\\x88\\x923\\xe2\\x80\\x9360M\\xe2\\x8a\\x99 PBHs [31] and millilensing of com-\\npact radio sources excluded 106\\xe2\\x80\\x93109M\\xe2\\x8a\\x99 PBHs [32] from\\nexplaining the dark matter. Dynamical constraints associ-\\nated with the tidal disruption of globular clusters,\\nthe heating of the Galactic disk and the dragging of halo\\nobjects into the Galactic nucleus by dynamical friction\\nexcluded PBHs in the mass range above 105M\\xe2\\x8a\\x99 [33].\\n\\nAbout a decade ago,\\n\\nthese lensing and dynamical\\nconstraints appeared to allow three mass ranges in which\\nPBHs could provide the dark matter [34]: the subatomic-\\nsize range (1016\\xe2\\x80\\x931017 g),\\nrange\\n(1020\\xe2\\x80\\x931026 g) and what is sometimes termed the inter-\\nmediate-mass black-hole (IMBH) range (10\\xe2\\x80\\x93105M\\xe2\\x8a\\x99).1 The\\n\\nthe sublunar mass\\n\\n1This term is commonly used to describe black holes inter-\\nmediate between those which derive from the collapse of ordinary\\nstars and the supermassive ones which derive from general\\nrelativistic instability, perhaps the remnants of a first generation\\nof population III stars larger than 102M\\xe2\\x8a\\x99. Here we use it in a\\nmore extended sense to include the O\\xc3\\xb010\\xc3\\x9eM\\xe2\\x8a\\x99 black holes\\ndetected by LIGO.\\n\\nPHYSICAL REVIEW D 94, 083504 (2016)\\nlowest range may now be excluded by Galactic \\xce\\xb3-ray\\nobservations [35] and the middle range\\xe2\\x80\\x94although the first\\nto be proposed as a PBH dark-matter candidate [17]\\xe2\\x80\\x94is\\nunder tension because such PBHs would be captured by\\nstars, whose neutron star or white dwarf remnants would\\nsubsequently be destroyed by accretion [36]. One problem\\nwith PBHs in the IMBH range is that such objects would\\ndisrupt wide binaries in the Galactic disk. It was originally\\nclaimed that this would exclude objects above 400M\\xe2\\x8a\\x99 [37]\\nbut more recent studies may reduce this mass [38], so the\\nnarrow window between the microlensing and wide-binary\\nbounds is shrinking. Nevertheless, this suggestion is topical\\nbecause PBHs in the IMBH range could naturally arise in\\nthe inflationary scenario [39] and might also explain the\\nsort of massive black-hole mergers observed by LIGO [40].\\nThe suggestion that LIGO could detect gravitational waves\\nfrom a population of IMBHs comprising the dark matter\\nwas originally proposed in the context of the population III\\n\\xe2\\x80\\x9cVMO\\xe2\\x80\\x9d scenario by Bond and Carr [41]. This is now\\nregarded as unlikely, since the precursor stars would be\\nbaryonic and therefore subject to the BBNS constraint, but\\nthe same possibility applies for IMBHs of primordial\\norigin.\\n\\nMost of the PBH dark-matter proposals assume that the\\nmass function of the black holes is very narrow (i.e. nearly\\nmonochromatic). However, this is unrealistic and in most\\nscenarios one would expect\\nthe mass function to be\\nextended. In particular, this arises if they form with the\\nlow-mass tail expected in critical collapse [42]. Indeed, it\\nhas been claimed that this would allow PBHs somewhat\\nabove 1015 g to contribute to both the dark matter and the \\xce\\xb3-\\nray background [43]. However, this assumes that the \\xe2\\x80\\x9cbare\\xe2\\x80\\x9d\\nPBH mass function (i.e. without the low-mass tail) has a\\nmonochromatic form and recently it has been realized that\\nthe tail could have a wider variety of forms if one drops this\\nassumption [44]. There are also many scenarios (e.g. PBH\\nformation from the collapse of cosmic strings) in which\\neven the bare mass function may be extended.\\n\\nThis raises two interesting questions: (i) Is there still a\\nmass window in which PBHs could provide all of the dark\\nmatter without violating the bounds in other mass ranges?\\n(ii) If there is no mass scale at which PBHs could provide\\nall\\nthe dark matter for a nearly monochromatic mass\\nfunction, could they still provide it by being spread out\\nin mass? In this paper we will show how to address these\\nquestions for both a specific extended mass function and\\nfor the more general situation. As far as we are aware, this\\nissue has not been discussed in the literature before and we\\nwill apply this methodology to the three mass ranges\\nmentioned above. There are subtleties involved when\\napplying differential limits to models with extended mass\\ndistributions, especially when the experimental bounds\\ncome without a mention of the bin size or when different\\nlimits using different bin sizes are combined. In order to\\nmake model-independent statements, we also discuss\\n\\n083504-2\\n\\n\\x0c'"
      ]
     },
     "execution_count": 11,
     "metadata": {},
     "output_type": "execute_result"
    }
   ],
   "source": [
    "text"
   ]
  },
  {
   "cell_type": "code",
   "execution_count": 8,
   "metadata": {
    "collapsed": false
   },
   "outputs": [],
   "source": [
    "from PyPDF2 import PdfFileReader\n",
    "import re\n",
    "import sys\n",
    "\n",
    "# pdf_file = sys.argv[1]\n",
    "pdf_file = 'carr2016.pdf'\n",
    "#doi_re = re.compile(\"\\b(10[.][0-9]{4,}(?:[.][0-9]+)*/(?:(?![\"&\\'])\\S)+)\\b\")\n",
    "#doi_re = re.compile('[doi|DOI][\\s\\.\\:]{0,2}(10\\.\\d{4}[\\d\\:\\.\\-\\/a-z]+)[A-Z\\s]')\n",
    "doi_re = re.compile('10.(\\d)+/([^(\\s\\>\\\"\\<)])+')\n"
   ]
  },
  {
   "cell_type": "code",
   "execution_count": 9,
   "metadata": {
    "collapsed": true
   },
   "outputs": [],
   "source": [
    "input = PdfFileReader(file(pdf_file, \"rb\"))\n",
    "text = input.getPage(0).extractText()\n",
    "\n"
   ]
  },
  {
   "cell_type": "code",
   "execution_count": 10,
   "metadata": {
    "collapsed": false
   },
   "outputs": [
    {
     "data": {
      "text/plain": [
       "u'Primordialblackholesasdarkmatter\\nBernardCarr,\\n1,*FlorianK\\xfchnel,\\n2,\\u0192andMaritSandstad\\n3,\\u20441DepartmentofPhysicsandAstronomy,QueenMaryUniversityofLondon,\\nMileEndRoad,LondonE14NS,UnitedKingdom\\n2TheOskarKleinCentreforCosmoparticlePhysics,DepartmentofPhysics,StockholmUniversity,\\nAlbaNova,SE\\n\\u015210691Stockholm,Sweden\\n3Nordita,KTHRoyalInstituteofTechnologyandStockholmUniversity,\\nRoslagstullsbacken23,SE\\n\\u015210691Stockholm,Sweden\\n(Received8August2016;published4October2016)\\nThepossibilitythatthedarkmattercomprisesprimordialblackholes(PBHs)isconsidered,with\\nparticularemphasisonthecurrentlyallowedmasswindowsat\\n1016\\u01521017g,1020\\u01521024gand\\n1\\u0152103M.ThePlanckmassrelicsofsmallerevaporatingPBHsarealsoconsidered.Allrelevantconstraints(lensing,\\n\\ndynamical,large-scalestructureandaccretion)arereviewedandvariouseffectsnecessaryforaprecise\\ncalculationofthePBHabundance(non-Gaussianity,nonsphericity,criticalcollapseandmerging)are\\naccountedfor.ItisdifficulttoputallthedarkmatterinPBHsiftheirmassfunctionismonochromaticbut\\n\\nthisisstillpossibleifthemassfunctionisextended,asexpectedinmanyscenarios.Anovelprocedurefor\\nconfrontingobservationalconstraintswithanextendedPBHmassspectrumisthereforeintroduced.This\\nappliesforarbitraryconstraintsandawiderangeofPBHformationmodelsandallowsustoidentifywhich\\n\\nmodel-independentconclusionscanbedrawnfromconstraintsoverallmassranges.Wefocusparticularly\\nonPBHsgeneratedbyinflation,pointingoutwhicheffectsintheformationprocessinfluencethemapping\\nfromtheinflationarypowerspectrumtothePBHmassfunction.Wethenapplyourschemetotwospecific\\n\\ninflationarymodelsinwhichPBHsprovidethedarkmatter.Thepossibilitythatthedarkmatterisin\\nintermediate-massPBHsof\\n1\\u0152103Misofspecialinterestinviewoftherecentdetectionofblack-hole\\nmergersbyLIGO.ThepossibilityofPlanckrelicsisalsointriguingbutvirtuallyuntestable.\\nDOI:10.1103/PhysRevD.94.083504\\nI.INTRODUCTION\\nPrimordialblackholes(PBHs)havebeenasourceof\\nintenseinterestfornearly50years\\n[1],despitethefactthat\\nthereisstillnoevidenceforthem.Onereasonforthisinterest\\nisthatonlyPBHscouldbesmallenoughforHawking\\nradiationtobeimportant\\n[2].Thishasnotyetbeenconfirmed\\nexperimentallyandthereremainmajorconceptualpuzzles\\nassociatedwiththeprocess,withHawkinghimselfstill\\ngrapplingwiththese\\n[3].Nevertheless,thisdiscoveryis\\ngenerallyrecognizedasoneofthekeydevelopmentsin\\n20thcenturyphysicsbecauseitbeautifullyunifiesgeneral\\nrelativity,quantummechanicsandthermodynamics.The\\n\\nfactthatHawkingwasonlyledtothisdiscoverythrough\\n\\ncontemplatingthepropertiesofPBHsillustratesthatitcanbe\\nusefultostudysomethingevenifitmaynotexist.\\nPBHssmallerthanabout\\n1015gwouldhaveevaporated\\nbynowwithmanyinterestingcosmologicalconsequences.\\nStudiesofsuchconsequenceshaveplacedusefulcon-\\n\\nstraintsonmodelsoftheearlyUniverseand,more\\npositively,evaporatingPBHshavebeeninvokedtoexplain\\ncertainfeatures:forexample,theextragalactic\\n[4]andGalactic[5]-raybackgrounds,antimatterincosmicrays\\n[6],theannihilationlineradiationfromtheGalacticcenter\\n[7],thereionizationofthepregalacticmedium\\n[8]andsomeshort-periodgamma-raybursts\\n[9].Formorecom-\\nprehensivereferences,seerecentarticlesbyKhlopov\\n[10]andCarr\\netal.\\n[11]andthebookbyCalmet,Carr,and\\nWinstanley\\n[12].However,thereareusuallyotherpossible\\nexplanationsforthesefeatures,sothereisnodefinitive\\n\\nevidenceforevaporatingPBHs.\\nAttentionhasthereforeshiftedtothePBHslargerthan\\n1015g,whichareunaffectedbyHawkingradiation.Such\\nPBHsmighthavevariousastrophysicalconsequences,such\\n\\nasprovidingseedsforthesupermassiveblackholesin\\n\\ngalacticnuclei\\n[13],thegenerationoflarge-scalestructure\\nthroughPoissonfluctuations\\n[14]andimportanteffectson\\nthethermalandionizationhistoryoftheUniverse\\n[15].Forarecentreview,inwhichaparticularPBH-producing\\n\\nmodelisshowntosolvetheseandseveralotherobserva-\\n\\ntionalproblems,seeRef.\\n[16].Butperhapsthemost\\nexcitingpossibility\\n\\u0160andthemainfocusofthispaper\\n\\u0160isthattheycouldprovidethedarkmatterwhichcomprises\\n\\n25%ofthecriticaldensity,anideathatgoesbackto\\n\\ntheearliestdaysofPBHresearch\\n[17].SincePBHsformed\\nintheradiation-dominatedera,theyarenotsubject\\n\\ntothewell-knownbigbangnucleosynthesis(BBNS)\\n\\nconstraintthatbaryonscanhaveatmost5%ofthecritical\\n*b.j.carr@qmul.ac.uk\\n\\u0192florian.kuhnel@fysik.su.se\\n\\u2044marit.sandstad@astro.uio.no\\nPHYSICALREVIEWD\\n94,083504(2016)\\n2470-0010=2016=94(8)=083504(28)083504-1\\xa92016AmericanPhysicalSociety\\n'"
      ]
     },
     "execution_count": 10,
     "metadata": {},
     "output_type": "execute_result"
    }
   ],
   "source": [
    "text"
   ]
  },
  {
   "cell_type": "code",
   "execution_count": 11,
   "metadata": {
    "collapsed": false
   },
   "outputs": [
    {
     "name": "stdout",
     "output_type": "stream",
     "text": [
      "10.1103/PhysRevD.94.083504\n"
     ]
    }
   ],
   "source": [
    "m = doi_re.search(text)\n",
    "print(m.group(0))"
   ]
  },
  {
   "cell_type": "code",
   "execution_count": 14,
   "metadata": {
    "collapsed": false
   },
   "outputs": [],
   "source": [
    "from pyinspire import pyinspire"
   ]
  },
  {
   "cell_type": "code",
   "execution_count": 23,
   "metadata": {
    "collapsed": false
   },
   "outputs": [
    {
     "name": "stdout",
     "output_type": "stream",
     "text": [
      "\n",
      "@article{Carr:2016drx,\n",
      "      author         = \"Carr, Bernard and Kuhnel, Florian and Sandstad, Marit\",\n",
      "      title          = \"{Primordial Black Holes as Dark Matter}\",\n",
      "      journal        = \"Phys. Rev.\",\n",
      "      volume         = \"D94\",\n",
      "      year           = \"2016\",\n",
      "      number         = \"8\",\n",
      "      pages          = \"083504\",\n",
      "      doi            = \"10.1103/PhysRevD.94.083504\",\n",
      "      eprint         = \"1607.06077\",\n",
      "      archivePrefix  = \"arXiv\",\n",
      "      primaryClass   = \"astro-ph.CO\",\n",
      "      reportNumber   = \"NORDITA-2016-83\",\n",
      "      SLACcitation   = \"%%CITATION = ARXIV:1607.06077;%%\"\n",
      "}\n",
      "\n"
     ]
    }
   ],
   "source": [
    "result = pyinspire.get_text_from_inspire(\"find doi 10.1103/PhysRevD.94.083504\", resultformat='bibtex')\n",
    "print result"
   ]
  },
  {
   "cell_type": "code",
   "execution_count": 42,
   "metadata": {
    "collapsed": false
   },
   "outputs": [
    {
     "name": "stdout",
     "output_type": "stream",
     "text": [
      "\n",
      "@article{Carr:2016drx,\n",
      "      author         = \"Carr, Bernard and Kuhnel, Florian and Sandstad, Marit\",\n",
      "      title          = \"{Primordial Black Holes as Dark Matter}\",\n",
      "      journal        = \"Phys. Rev.\",\n",
      "      volume         = \"D94\",\n",
      "      year           = \"2016\",\n",
      "      number         = \"8\",\n",
      "      pages          = \"083504\",\n",
      "      doi            = \"10.1103/PhysRevD.94.083504\",\n",
      "      eprint         = \"1607.06077\",\n",
      "      archivePrefix  = \"arXiv\",\n",
      "      primaryClass   = \"astro-ph.CO\",\n",
      "      reportNumber   = \"NORDITA-2016-83\",\n",
      "      SLACcitation   = \"%%CITATION = ARXIV:1607.06077;%%\"\n",
      "}\n",
      "\n"
     ]
    }
   ],
   "source": [
    "result = pyinspire.get_text_from_inspire(\"find doi 10.1103/PhysRevD.94.083504\", resultformat='bibtex', )\n",
    "print result"
   ]
  },
  {
   "cell_type": "code",
   "execution_count": 49,
   "metadata": {
    "collapsed": false
   },
   "outputs": [
    {
     "name": "stdout",
     "output_type": "stream",
     "text": [
      "      doi            = \"10.1103/PhysRevD.94.083504\",\n"
     ]
    }
   ],
   "source": [
    "for line in result.splitlines():\n",
    "    if \"doi\" in line:\n",
    "        print line"
   ]
  },
  {
   "cell_type": "code",
   "execution_count": 25,
   "metadata": {
    "collapsed": true
   },
   "outputs": [],
   "source": [
    "import json"
   ]
  },
  {
   "cell_type": "code",
   "execution_count": null,
   "metadata": {
    "collapsed": true
   },
   "outputs": [],
   "source": []
  },
  {
   "cell_type": "code",
   "execution_count": 40,
   "metadata": {
    "collapsed": false
   },
   "outputs": [],
   "source": [
    "res_dict = json.loads(result)"
   ]
  },
  {
   "cell_type": "code",
   "execution_count": 36,
   "metadata": {
    "collapsed": false
   },
   "outputs": [
    {
     "data": {
      "text/plain": [
       "[{u'authors': [{u'INSPIRE_number': u'INSPIRE-00327986',\n",
       "    u'affiliation': u'Queen Mary, U. of London',\n",
       "    u'first_name': u'Bernard',\n",
       "    u'full_name': u'Carr, Bernard',\n",
       "    u'last_name': u'Carr'},\n",
       "   {u'INSPIRE_number': u'INSPIRE-00188656',\n",
       "    u'affiliation': [u'Stockholm U.', u'Stockholm U., OKC'],\n",
       "    u'first_name': u'Florian',\n",
       "    u'full_name': u'Kuhnel, Florian',\n",
       "    u'last_name': u'Kuhnel'},\n",
       "   {u'affiliation': [u'Stockholm U.', u'Nordita'],\n",
       "    u'first_name': u'Marit',\n",
       "    u'full_name': u'Sandstad, Marit',\n",
       "    u'last_name': u'Sandstad'}],\n",
       "  u'title': {u'title': u'Primordial Black Holes as Dark Matter'}}]"
      ]
     },
     "execution_count": 36,
     "metadata": {},
     "output_type": "execute_result"
    }
   ],
   "source": [
    "res_dict"
   ]
  },
  {
   "cell_type": "raw",
   "metadata": {},
   "source": []
  }
 ],
 "metadata": {
  "kernelspec": {
   "display_name": "Python 2",
   "language": "python",
   "name": "python2"
  },
  "language_info": {
   "codemirror_mode": {
    "name": "ipython",
    "version": 2
   },
   "file_extension": ".py",
   "mimetype": "text/x-python",
   "name": "python",
   "nbconvert_exporter": "python",
   "pygments_lexer": "ipython2",
   "version": "2.7.9"
  }
 },
 "nbformat": 4,
 "nbformat_minor": 1
}
