{
 "cells": [
  {
   "cell_type": "markdown",
   "metadata": {},
   "source": [
    "# Get info from article\n",
    "\n",
    "## Method:\n",
    "\n",
    "1. Scraping pdf article to find **DOI**\n",
    "2. Using **Inspire-Hep** database to get the **Bib**$\\TeX$ register."
   ]
  },
  {
   "cell_type": "code",
   "execution_count": 1,
   "metadata": {
    "collapsed": true
   },
   "outputs": [],
   "source": [
    "from pyinspire import pyinspire\n",
    "from PyPDF2 import PdfFileReader\n",
    "import re\n",
    "import sys"
   ]
  },
  {
   "cell_type": "code",
   "execution_count": 2,
   "metadata": {
    "collapsed": false
   },
   "outputs": [
    {
     "name": "stdout",
     "output_type": "stream",
     "text": [
      "The paper was originally published at:\n",
      "https://doi.org/10.1103/PhysRevD.94.023504\n"
     ]
    },
    {
     "name": "stderr",
     "output_type": "stream",
     "text": [
      "PdfReadWarning: Xref table not zero-indexed. ID numbers for objects will be corrected. [pdf.py:1736]\n"
     ]
    }
   ],
   "source": [
    "pdf_file = '../articles/paper_from_prd.pdf'  # local file\n",
    "\n",
    "doi_re = re.compile('10.(\\d)+/([^(\\s\\>\\\"\\<)])+')\n",
    "input = PdfFileReader(file(pdf_file, \"rb\"))\n",
    "text = input.getPage(0).extractText()\n",
    "m = doi_re.search(text)\n",
    "doi = m.group(0)\n",
    "\n",
    "print(\"The paper was originally published at:\\nhttps://doi.org/\"+doi)"
   ]
  },
  {
   "cell_type": "code",
   "execution_count": 3,
   "metadata": {
    "collapsed": false
   },
   "outputs": [
    {
     "name": "stdout",
     "output_type": "stream",
     "text": [
      "\n",
      "@article{Taruya:2016jdt,\n",
      "      author         = \"Taruya, Atsushi\",\n",
      "      title          = \"{Constructing perturbation theory kernels for large-scale\n",
      "                        structure in generalized cosmologies}\",\n",
      "      journal        = \"Phys. Rev.\",\n",
      "      volume         = \"D94\",\n",
      "      year           = \"2016\",\n",
      "      number         = \"2\",\n",
      "      pages          = \"023504\",\n",
      "      doi            = \"10.1103/PhysRevD.94.023504\",\n",
      "      eprint         = \"1606.02168\",\n",
      "      archivePrefix  = \"arXiv\",\n",
      "      primaryClass   = \"astro-ph.CO\",\n",
      "      reportNumber   = \"YITP-16-69\",\n",
      "      SLACcitation   = \"%%CITATION = ARXIV:1606.02168;%%\"\n",
      "}\n",
      "\n"
     ]
    }
   ],
   "source": [
    "result = pyinspire.get_text_from_inspire(\"find doi \"+doi, resultformat='bibtex')\n",
    "\n",
    "print(result)"
   ]
  },
  {
   "cell_type": "code",
   "execution_count": null,
   "metadata": {
    "collapsed": true
   },
   "outputs": [],
   "source": []
  }
 ],
 "metadata": {
  "kernelspec": {
   "display_name": "Python 2",
   "language": "python",
   "name": "python2"
  },
  "language_info": {
   "codemirror_mode": {
    "name": "ipython",
    "version": 2
   },
   "file_extension": ".py",
   "mimetype": "text/x-python",
   "name": "python",
   "nbconvert_exporter": "python",
   "pygments_lexer": "ipython2",
   "version": "2.7.9"
  }
 },
 "nbformat": 4,
 "nbformat_minor": 1
}
